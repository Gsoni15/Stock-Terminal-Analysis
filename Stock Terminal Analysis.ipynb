{
 "cells": [
  {
   "cell_type": "code",
   "execution_count": 1,
   "id": "cccfe998",
   "metadata": {},
   "outputs": [],
   "source": [
    "from datetime import date  # pip install datetime\n",
    "import matplotlib.pyplot as plt  # pip install matplotlib\n",
    "import yfinance as yf  # pip install yfinance"
   ]
  },
  {
   "cell_type": "code",
   "execution_count": 2,
   "id": "c78952fd",
   "metadata": {},
   "outputs": [],
   "source": [
    "def end_date_time(end):\n",
    "    print(\"\\nChoose Duration:- \")\n",
    "    print(\"|  1. Last Week  |  2. Last Month   |   3. Last 5 Month   |   4. Last Year   |   5. Last 5 Year   |\")\n",
    "    resp = int(input(\"Response:- \"))\n",
    "    if resp > 5:\n",
    "        resp = int(input(\"Please Enter Properly....Response:- \"))\n",
    "    if resp == 1:\n",
    "        start = date(end.year, end.month, end.day - 7)\n",
    "    elif resp == 2:\n",
    "        start = date(end.year, end.month - 1, end.day)\n",
    "    elif resp == 3:\n",
    "        start = date(end.year, end.month - 5, end.day)\n",
    "    elif resp == 4:\n",
    "        start = date(end.year - 1, end.month, end.day)\n",
    "    else:\n",
    "        start = date(end.year - 5, end.month, end.day)\n",
    "    return start"
   ]
  },
  {
   "cell_type": "code",
   "execution_count": 3,
   "id": "96c85a4e",
   "metadata": {},
   "outputs": [],
   "source": [
    "def imp_data(symbol_list, start, end):\n",
    "    data = yf.download(symbol_list, start, end)\n",
    "    return data"
   ]
  },
  {
   "cell_type": "code",
   "execution_count": 4,
   "id": "f91445aa",
   "metadata": {},
   "outputs": [],
   "source": [
    "def graph_ch():\n",
    "    print(\"\\nChoose Amongst Two Graph:- \")\n",
    "    print(\"1. Open and Close     2. High and Low\")\n",
    "    choice = int(input(\"Enter Choice:- \"))\n",
    "    if choice > 2:\n",
    "        print(\"Please Enter Properly....Choice:- \")\n",
    "    return choice"
   ]
  },
  {
   "cell_type": "code",
   "execution_count": 5,
   "id": "c9acc1f7",
   "metadata": {},
   "outputs": [],
   "source": [
    "def open_close(data, start_date, end_date):\n",
    "    fig, ax = plt.subplots()\n",
    "    fig.autofmt_xdate()\n",
    "    plt.xlabel(\"Date\")\n",
    "    plt.ylabel(\"Price\")\n",
    "    plt.title('Opening And Closing Prices from {} to {}'.format(start_date, end_date))\n",
    "    plt.plot(data['Open'])\n",
    "    plt.plot(data['Close'])\n",
    "    plt.show()"
   ]
  },
  {
   "cell_type": "code",
   "execution_count": 6,
   "id": "50b00558",
   "metadata": {},
   "outputs": [],
   "source": [
    "def high_low(data, start_date, end_date):\n",
    "    fig, ax = plt.subplots()\n",
    "    fig.autofmt_xdate()\n",
    "    plt.xlabel(\"Date\")\n",
    "    plt.ylabel(\"Price\")\n",
    "    plt.title('High and Low Prices from {} to {}'.format(start_date, end_date))\n",
    "    plt.plot(data['High'])\n",
    "    plt.plot(data['Low'])\n",
    "    plt.show()"
   ]
  },
  {
   "cell_type": "code",
   "execution_count": 7,
   "id": "d70d8803",
   "metadata": {},
   "outputs": [],
   "source": [
    "def graph(choice):\n",
    "    if choice == 1:\n",
    "        open_close(stock_data, start_day, end_day)\n",
    "    else:\n",
    "        high_low(stock_data, start_day, end_day)\n"
   ]
  },
  {
   "cell_type": "code",
   "execution_count": 8,
   "id": "5a3b2fe8",
   "metadata": {},
   "outputs": [
    {
     "name": "stdout",
     "output_type": "stream",
     "text": [
      "Enter Stock Symbol:- MSFT\n",
      "\n",
      "Choose Duration:- \n",
      "|  1. Last Week  |  2. Last Month   |   3. Last 5 Month   |   4. Last Year   |   5. Last 5 Year   |\n",
      "Response:- 2\n",
      "2022-02-27 2022-01-27\n",
      "[*********************100%***********************]  1 of 1 completed\n",
      "\n",
      "Choose Amongst Two Graph:- \n",
      "1. Open and Close     2. High and Low\n",
      "Enter Choice:- 1\n"
     ]
    },
    {
     "data": {
      "image/png": "[encoded data removed]",
      "text/plain": [
       "<Figure size 432x288 with 1 Axes>"
      ]
     },
     "metadata": {
      "needs_background": "light"
     },
     "output_type": "display_data"
    }
   ],
   "source": [
    "if __name__ == \"__main__\":\n",
    "    symbol = input(\"Enter Stock Symbol:- \")\n",
    "    end_day = date.today()\n",
    "    start_day = end_date_time(end_day)\n",
    "    print(end_day, start_day)\n",
    "    stock_data = imp_data(symbol, start_day, end_day)\n",
    "    graph(graph_ch())"
   ]
  },
  {
   "cell_type": "code",
   "execution_count": null,
   "id": "cc750a0d",
   "metadata": {},
   "outputs": [],
   "source": []
  },
  {
   "cell_type": "code",
   "execution_count": null,
   "id": "f3c80f80",
   "metadata": {},
   "outputs": [],
   "source": []
  }
 ],
 "metadata": {
  "kernelspec": {
   "display_name": "Python 3 (ipykernel)",
   "language": "python",
   "name": "python3"
  },
  "language_info": {
   "codemirror_mode": {
    "name": "ipython",
    "version": 3
   },
   "file_extension": ".py",
   "mimetype": "text/x-python",
   "name": "python",
   "nbconvert_exporter": "python",
   "pygments_lexer": "ipython3",
   "version": "3.10.0"
  }
 },
 "nbformat": 4,
 "nbformat_minor": 5
}
